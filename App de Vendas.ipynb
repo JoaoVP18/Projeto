{
  "nbformat": 4,
  "nbformat_minor": 0,
  "metadata": {
    "colab": {
      "provenance": [],
      "authorship_tag": "ABX9TyOybuQZzSaLyRqLpOFA8CA7",
      "include_colab_link": true
    },
    "kernelspec": {
      "name": "python3",
      "display_name": "Python 3"
    },
    "language_info": {
      "name": "python"
    }
  },
  "cells": [
    {
      "cell_type": "markdown",
      "metadata": {
        "id": "view-in-github",
        "colab_type": "text"
      },
      "source": [
        "<a href=\"https://colab.research.google.com/github/JoaoVP18/Projeto/blob/main/App%20de%20Vendas.ipynb\" target=\"_parent\"><img src=\"https://colab.research.google.com/assets/colab-badge.svg\" alt=\"Open In Colab\"/></a>"
      ]
    },
    {
      "cell_type": "markdown",
      "source": [
        "Exercicio 2"
      ],
      "metadata": {
        "id": "TsL38G9urKo2"
      }
    },
    {
      "cell_type": "code",
      "execution_count": null,
      "metadata": {
        "colab": {
          "base_uri": "https://localhost:8080/"
        },
        "id": "1PaNjoMorHKp",
        "outputId": "0074bd8a-6a7a-4f5c-8135-1c52e925a199"
      },
      "outputs": [
        {
          "output_type": "stream",
          "name": "stdout",
          "text": [
            "Bem-vindo a sorveteria do João Vitor Potratz Pereira\n",
            "\n",
            "======================== CARDÁPIO =====================\n",
            "|    Sabor     |  Tamanho P |  Tamanho M |  Tamanho G |\n",
            "|--------------|------------|------------|------------|\n",
            "| Cupuaçu (CP) | R$ 9,00    | R$ 14,00   | R$ 18,00   |\n",
            "| Açaí (AC)    | R$ 11,00   | R$ 16,00   | R$ 20,00   |\n",
            "=======================================================\n",
            "\n",
            "Escolha o sabor desejado (CP/AC): ar\n",
            "Sabor inválido. Tente novamente.\n",
            "\n",
            "Escolha o sabor desejado (CP/AC): cp\n",
            "Escolha o tamanho desejado (P/M/G): gg\n",
            "Tamanho inválido. Tente novamente.\n",
            "\n",
            "Escolha o sabor desejado (CP/AC): cp\n",
            "Escolha o tamanho desejado (P/M/G): p\n",
            "Você pediu um Cupuaçu no tamanho P: R$9.00\n",
            "\n",
            "Deseja mais alguma coisa? (S/N): s\n",
            "Escolha o sabor desejado (CP/AC): ac\n",
            "Escolha o tamanho desejado (P/M/G): g\n",
            "Você pediu um Açaí no tamanho G: R$20.00\n",
            "\n",
            "Deseja mais alguma coisa? (S/N): n\n",
            "\n",
            "O valor total a ser pago: R$29.00\n"
          ]
        }
      ],
      "source": [
        "print('Bem-vindo a sorveteria do João Vitor Potratz Pereira')\n",
        "\n",
        "def mostrar_cardapio():\n",
        "    print(\"\\n======================== CARDÁPIO =====================\")\n",
        "    print(\"|    Sabor     |  Tamanho P |  Tamanho M |  Tamanho G |\")\n",
        "    print(\"|--------------|------------|------------|------------|\")\n",
        "    print(\"| Cupuaçu (CP) | R$ 9,00    | R$ 14,00   | R$ 18,00   |\")\n",
        "    print(\"| Açaí (AC)    | R$ 11,00   | R$ 16,00   | R$ 20,00   |\")\n",
        "    print(\"=======================================================\\n\")\n",
        "\n",
        "mostrar_cardapio()\n",
        "\n",
        "total = 0 # acumulador\n",
        "\n",
        "while True:\n",
        "  sabor = input('Escolha o sabor desejado (CP/AC): ').upper()\n",
        "  if sabor != 'CP' and sabor != 'AC':\n",
        "    print('Sabor inválido. Tente novamente.\\n')\n",
        "    continue\n",
        "  if sabor == \"CP\":\n",
        "    nome_sabor = \"Cupuaçu\"\n",
        "  else:\n",
        "    nome_sabor = \"Açaí\"\n",
        "\n",
        "  tamanho = input('Escolha o tamanho desejado (P/M/G): ').upper()\n",
        "  if tamanho != 'P' and tamanho != 'M' and tamanho != 'G':\n",
        "      print('Tamanho inválido. Tente novamente.\\n')\n",
        "      continue\n",
        "\n",
        "  # Estrutura aninhada para determinar preço\n",
        "  if sabor == 'CP':\n",
        "      if tamanho == 'P':\n",
        "        preco = 9\n",
        "      elif tamanho == 'M':\n",
        "        preco = 14\n",
        "      else: # tamanho == 'G'\n",
        "        preco = 18\n",
        "  elif sabor == \"AC\":\n",
        "      if tamanho == \"P\":\n",
        "        preco = 11\n",
        "      elif tamanho == 'M':\n",
        "        preco = 16\n",
        "      else: # tamanho == 'G'\n",
        "        preco = 20\n",
        "\n",
        "  # atualiza o acumulador\n",
        "  total += preco\n",
        "  print(f'Você pediu um {nome_sabor} no tamanho {tamanho}: R${preco:.2f}\\n')\n",
        "\n",
        "  # Pergunta se quer continuar\n",
        "  mais = input('Deseja mais alguma coisa? (S/N): ').upper()\n",
        "  if mais != 'S':\n",
        "    print()\n",
        "    break\n",
        "\n",
        "# Exibe o total do pedido\n",
        "print(f'O valor total a ser pago: R${total:.2f}')"
      ]
    }
  ]
}